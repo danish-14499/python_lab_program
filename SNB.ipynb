{
 "cells": [
  {
   "cell_type": "code",
   "execution_count": 1,
   "id": "5fe7e351-6743-46ed-8dd9-11f44fc8c327",
   "metadata": {},
   "outputs": [],
   "source": [
    "import pandas as pd\n",
    "import numpy as np"
   ]
  },
  {
   "cell_type": "code",
   "execution_count": 2,
   "id": "7debd0a2",
   "metadata": {},
   "outputs": [
    {
     "name": "stdout",
     "output_type": "stream",
     "text": [
      "Requirement already satisfied: pandas in c:\\users\\lenovo\\appdata\\local\\programs\\python\\python312\\lib\\site-packages (2.2.2)\n",
      "Requirement already satisfied: numpy>=1.26.0 in c:\\users\\lenovo\\appdata\\local\\programs\\python\\python312\\lib\\site-packages (from pandas) (2.0.2)\n",
      "Requirement already satisfied: python-dateutil>=2.8.2 in c:\\users\\lenovo\\appdata\\roaming\\python\\python312\\site-packages (from pandas) (2.9.0.post0)\n",
      "Requirement already satisfied: pytz>=2020.1 in c:\\users\\lenovo\\appdata\\local\\programs\\python\\python312\\lib\\site-packages (from pandas) (2024.2)\n",
      "Requirement already satisfied: tzdata>=2022.7 in c:\\users\\lenovo\\appdata\\local\\programs\\python\\python312\\lib\\site-packages (from pandas) (2024.1)\n",
      "Requirement already satisfied: six>=1.5 in c:\\users\\lenovo\\appdata\\roaming\\python\\python312\\site-packages (from python-dateutil>=2.8.2->pandas) (1.16.0)\n",
      "Note: you may need to restart the kernel to use updated packages.\n"
     ]
    }
   ],
   "source": [
    "pip install pandas"
   ]
  },
  {
   "cell_type": "code",
   "execution_count": 3,
   "id": "2dd20736-049b-4848-abdf-1d0b791a3f85",
   "metadata": {},
   "outputs": [],
   "source": [
    "df = pd.read_csv(\"DataCovid.csv\")"
   ]
  },
  {
   "cell_type": "code",
   "execution_count": 4,
   "id": "a583a9c9-13d6-4334-bb70-c2c88d6312aa",
   "metadata": {},
   "outputs": [
    {
     "data": {
      "text/html": [
       "<div>\n",
       "<style scoped>\n",
       "    .dataframe tbody tr th:only-of-type {\n",
       "        vertical-align: middle;\n",
       "    }\n",
       "\n",
       "    .dataframe tbody tr th {\n",
       "        vertical-align: top;\n",
       "    }\n",
       "\n",
       "    .dataframe thead th {\n",
       "        text-align: right;\n",
       "    }\n",
       "</style>\n",
       "<table border=\"1\" class=\"dataframe\">\n",
       "  <thead>\n",
       "    <tr style=\"text-align: right;\">\n",
       "      <th></th>\n",
       "      <th>Person</th>\n",
       "      <th>Covid</th>\n",
       "      <th>Flu</th>\n",
       "      <th>Fever</th>\n",
       "    </tr>\n",
       "  </thead>\n",
       "  <tbody>\n",
       "    <tr>\n",
       "      <th>0</th>\n",
       "      <td>1</td>\n",
       "      <td>Yes</td>\n",
       "      <td>No</td>\n",
       "      <td>Yes</td>\n",
       "    </tr>\n",
       "    <tr>\n",
       "      <th>1</th>\n",
       "      <td>2</td>\n",
       "      <td>No</td>\n",
       "      <td>Yes</td>\n",
       "      <td>Yes</td>\n",
       "    </tr>\n",
       "    <tr>\n",
       "      <th>2</th>\n",
       "      <td>3</td>\n",
       "      <td>Yes</td>\n",
       "      <td>Yes</td>\n",
       "      <td>Yes</td>\n",
       "    </tr>\n",
       "    <tr>\n",
       "      <th>3</th>\n",
       "      <td>4</td>\n",
       "      <td>No</td>\n",
       "      <td>No</td>\n",
       "      <td>No</td>\n",
       "    </tr>\n",
       "    <tr>\n",
       "      <th>4</th>\n",
       "      <td>5</td>\n",
       "      <td>Yes</td>\n",
       "      <td>No</td>\n",
       "      <td>Yes</td>\n",
       "    </tr>\n",
       "  </tbody>\n",
       "</table>\n",
       "</div>"
      ],
      "text/plain": [
       "   Person Covid  Flu Fever\n",
       "0       1   Yes   No   Yes\n",
       "1       2    No  Yes   Yes\n",
       "2       3   Yes  Yes   Yes\n",
       "3       4    No   No    No\n",
       "4       5   Yes   No   Yes"
      ]
     },
     "execution_count": 4,
     "metadata": {},
     "output_type": "execute_result"
    }
   ],
   "source": [
    "df.head()"
   ]
  },
  {
   "cell_type": "code",
   "execution_count": 5,
   "id": "cbf187fb-b93b-4aa1-910e-e0a191f95bd5",
   "metadata": {},
   "outputs": [
    {
     "name": "stdout",
     "output_type": "stream",
     "text": [
      "[['Yes' 'No' 'Yes']\n",
      " ['No' 'Yes' 'Yes']\n",
      " ['Yes' 'Yes' 'Yes']\n",
      " ['No' 'No' 'No']\n",
      " ['Yes' 'No' 'Yes']\n",
      " ['No' 'No' 'Yes']\n",
      " ['Yes' 'No' 'Yes']\n",
      " ['Yes' 'No' 'No']\n",
      " ['No' 'Yes' 'Yes']\n",
      " ['No' 'Yes' 'No']\n",
      " ['Yes' 'Yes' nan]]\n"
     ]
    }
   ],
   "source": [
    "newDF = df.drop(df.columns[0], axis=1)\n",
    "mat = newDF.to_numpy()\n",
    "print(mat)"
   ]
  },
  {
   "cell_type": "markdown",
   "id": "00fc72db-3d17-48cb-a6fa-30c1a6dba179",
   "metadata": {},
   "source": [
    "#### Now we have the matrix\n",
    "- We will predict the output for new instance\n",
    "- We consider that new instance is the last one"
   ]
  },
  {
   "cell_type": "code",
   "execution_count": 6,
   "id": "5f373fc3-4543-421a-8a9a-543153c6ad7c",
   "metadata": {},
   "outputs": [],
   "source": [
    "R = mat.shape[0]-1 ## This R does not consist of the last row to be predicted\n",
    "C = mat.shape[1]"
   ]
  },
  {
   "cell_type": "code",
   "execution_count": 7,
   "id": "e5b957f6-5f98-4ec7-9eb6-005a1dddb445",
   "metadata": {},
   "outputs": [],
   "source": [
    "countYes=0\n",
    "for i in range(R):\n",
    "    if mat[i][C-1] == \"Yes\":\n",
    "        countYes+=1\n",
    "countNo=R-countYes\n",
    "P = countYes/R ## P for P(E=Yes)\n",
    "NP = countNo/R ## NP for P(E=No)"
   ]
  },
  {
   "cell_type": "code",
   "execution_count": 8,
   "id": "aaa1ef58-1f66-42c5-a414-731a3cabef2d",
   "metadata": {},
   "outputs": [
    {
     "name": "stdout",
     "output_type": "stream",
     "text": [
      "Yes = 0.1714285714285714\n",
      "No = 0.03333333333333333\n"
     ]
    }
   ],
   "source": [
    "Pyes=1\n",
    "Pno=1\n",
    "for c in range(C-1):\n",
    "    instanceVal=mat[R][c]\n",
    "    countInstanceYes=0\n",
    "    countInstanceNo=0\n",
    "    for r in range(R):\n",
    "        if mat[r][c]==instanceVal:\n",
    "            if mat[r][C-1]==\"Yes\":\n",
    "                countInstanceYes+=1\n",
    "            else:\n",
    "                countInstanceNo+=1\n",
    "    Pyes=Pyes*(countInstanceYes/countYes)\n",
    "    Pno=Pno*(countInstanceNo/countNo)\n",
    "Pyes=Pyes*P\n",
    "Pno=Pno*NP\n",
    "print(f\"Yes = {Pyes}\")\n",
    "print(f\"No = {Pno}\")"
   ]
  },
  {
   "cell_type": "code",
   "execution_count": 9,
   "id": "1b0813ae-4a4c-4a54-bf53-69d233a268e8",
   "metadata": {},
   "outputs": [],
   "source": [
    "if Pyes>Pno:\n",
    "    df.iloc[R, C] = \"Yes\"\n",
    "else:\n",
    "    df.iloc[R, C] = \"No\""
   ]
  },
  {
   "cell_type": "code",
   "execution_count": 10,
   "id": "2c46d11a-fa9f-4852-9067-52386cb3d375",
   "metadata": {},
   "outputs": [
    {
     "data": {
      "text/html": [
       "<div>\n",
       "<style scoped>\n",
       "    .dataframe tbody tr th:only-of-type {\n",
       "        vertical-align: middle;\n",
       "    }\n",
       "\n",
       "    .dataframe tbody tr th {\n",
       "        vertical-align: top;\n",
       "    }\n",
       "\n",
       "    .dataframe thead th {\n",
       "        text-align: right;\n",
       "    }\n",
       "</style>\n",
       "<table border=\"1\" class=\"dataframe\">\n",
       "  <thead>\n",
       "    <tr style=\"text-align: right;\">\n",
       "      <th></th>\n",
       "      <th>Person</th>\n",
       "      <th>Covid</th>\n",
       "      <th>Flu</th>\n",
       "      <th>Fever</th>\n",
       "    </tr>\n",
       "  </thead>\n",
       "  <tbody>\n",
       "    <tr>\n",
       "      <th>6</th>\n",
       "      <td>7</td>\n",
       "      <td>Yes</td>\n",
       "      <td>No</td>\n",
       "      <td>Yes</td>\n",
       "    </tr>\n",
       "    <tr>\n",
       "      <th>7</th>\n",
       "      <td>8</td>\n",
       "      <td>Yes</td>\n",
       "      <td>No</td>\n",
       "      <td>No</td>\n",
       "    </tr>\n",
       "    <tr>\n",
       "      <th>8</th>\n",
       "      <td>9</td>\n",
       "      <td>No</td>\n",
       "      <td>Yes</td>\n",
       "      <td>Yes</td>\n",
       "    </tr>\n",
       "    <tr>\n",
       "      <th>9</th>\n",
       "      <td>10</td>\n",
       "      <td>No</td>\n",
       "      <td>Yes</td>\n",
       "      <td>No</td>\n",
       "    </tr>\n",
       "    <tr>\n",
       "      <th>10</th>\n",
       "      <td>11</td>\n",
       "      <td>Yes</td>\n",
       "      <td>Yes</td>\n",
       "      <td>Yes</td>\n",
       "    </tr>\n",
       "  </tbody>\n",
       "</table>\n",
       "</div>"
      ],
      "text/plain": [
       "    Person Covid  Flu Fever\n",
       "6        7   Yes   No   Yes\n",
       "7        8   Yes   No    No\n",
       "8        9    No  Yes   Yes\n",
       "9       10    No  Yes    No\n",
       "10      11   Yes  Yes   Yes"
      ]
     },
     "execution_count": 10,
     "metadata": {},
     "output_type": "execute_result"
    }
   ],
   "source": [
    "df.tail()"
   ]
  },
  {
   "cell_type": "code",
   "execution_count": 11,
   "id": "58127856-edea-47cb-a3b6-533caff3670d",
   "metadata": {},
   "outputs": [],
   "source": [
    "df.to_csv(\"Prediction.csv\", index=False)\n"
   ]
  },
  {
   "cell_type": "code",
   "execution_count": 12,
   "id": "634ba371-af41-4543-817e-54152ee493be",
   "metadata": {},
   "outputs": [
    {
     "data": {
      "text/html": [
       "<div>\n",
       "<style scoped>\n",
       "    .dataframe tbody tr th:only-of-type {\n",
       "        vertical-align: middle;\n",
       "    }\n",
       "\n",
       "    .dataframe tbody tr th {\n",
       "        vertical-align: top;\n",
       "    }\n",
       "\n",
       "    .dataframe thead th {\n",
       "        text-align: right;\n",
       "    }\n",
       "</style>\n",
       "<table border=\"1\" class=\"dataframe\">\n",
       "  <thead>\n",
       "    <tr style=\"text-align: right;\">\n",
       "      <th></th>\n",
       "      <th>Person</th>\n",
       "      <th>Covid</th>\n",
       "      <th>Flu</th>\n",
       "      <th>Fever</th>\n",
       "    </tr>\n",
       "  </thead>\n",
       "  <tbody>\n",
       "    <tr>\n",
       "      <th>6</th>\n",
       "      <td>7</td>\n",
       "      <td>Yes</td>\n",
       "      <td>No</td>\n",
       "      <td>Yes</td>\n",
       "    </tr>\n",
       "    <tr>\n",
       "      <th>7</th>\n",
       "      <td>8</td>\n",
       "      <td>Yes</td>\n",
       "      <td>No</td>\n",
       "      <td>No</td>\n",
       "    </tr>\n",
       "    <tr>\n",
       "      <th>8</th>\n",
       "      <td>9</td>\n",
       "      <td>No</td>\n",
       "      <td>Yes</td>\n",
       "      <td>Yes</td>\n",
       "    </tr>\n",
       "    <tr>\n",
       "      <th>9</th>\n",
       "      <td>10</td>\n",
       "      <td>No</td>\n",
       "      <td>Yes</td>\n",
       "      <td>No</td>\n",
       "    </tr>\n",
       "    <tr>\n",
       "      <th>10</th>\n",
       "      <td>11</td>\n",
       "      <td>Yes</td>\n",
       "      <td>Yes</td>\n",
       "      <td>Yes</td>\n",
       "    </tr>\n",
       "  </tbody>\n",
       "</table>\n",
       "</div>"
      ],
      "text/plain": [
       "    Person Covid  Flu Fever\n",
       "6        7   Yes   No   Yes\n",
       "7        8   Yes   No    No\n",
       "8        9    No  Yes   Yes\n",
       "9       10    No  Yes    No\n",
       "10      11   Yes  Yes   Yes"
      ]
     },
     "execution_count": 12,
     "metadata": {},
     "output_type": "execute_result"
    }
   ],
   "source": [
    "predictionDF=pd.read_csv(\"Prediction.csv\")\n",
    "predictionDF.tail()"
   ]
  },
  {
   "cell_type": "code",
   "execution_count": null,
   "id": "174bb389-c722-408a-836b-d515e3df8d7c",
   "metadata": {},
   "outputs": [],
   "source": []
  }
 ],
 "metadata": {
  "kernelspec": {
   "display_name": "Python 3",
   "language": "python",
   "name": "python3"
  },
  "language_info": {
   "codemirror_mode": {
    "name": "ipython",
    "version": 3
   },
   "file_extension": ".py",
   "mimetype": "text/x-python",
   "name": "python",
   "nbconvert_exporter": "python",
   "pygments_lexer": "ipython3",
   "version": "3.12.6"
  }
 },
 "nbformat": 4,
 "nbformat_minor": 5
}
