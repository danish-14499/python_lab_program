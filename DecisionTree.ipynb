{
 "cells": [
  {
   "cell_type": "code",
   "execution_count": 1,
   "metadata": {},
   "outputs": [
    {
     "name": "stdout",
     "output_type": "stream",
     "text": [
      "Decision Tree: {np.int64(0): {np.int64(0): {np.int64(3): {np.int64(0): np.int64(0), np.int64(1): {np.int64(2): {np.int64(0): np.int64(1), np.int64(1): np.int64(0)}}}}, np.int64(1): np.int64(1), np.int64(2): {np.int64(3): {np.int64(0): np.int64(1), np.int64(1): {np.int64(1): {np.int64(1): {np.int64(2): {np.int64(0): np.int64(0), np.int64(1): np.int64(1)}}, np.int64(2): np.int64(0)}}}}}}\n"
     ]
    }
   ],
   "source": [
    "import numpy as np\n",
    "import pandas as pd\n",
    "from collections import Counter\n",
    "\n",
    "# Function to calculate entropy\n",
    "def entropy(y):\n",
    "    counts = np.bincount(y)\n",
    "    probabilities = counts / len(y)\n",
    "    return -np.sum([p * np.log2(p) for p in probabilities if p > 0])\n",
    "\n",
    "# Function to calculate information gain\n",
    "def information_gain(X, y, feature_index):\n",
    "    original_entropy = entropy(y)\n",
    "    values, counts = np.unique(X[:, feature_index], return_counts=True)\n",
    "    weighted_entropy = np.sum(\n",
    "        [(counts[i] / np.sum(counts)) * entropy(y[X[:, feature_index] == value]) for i, value in enumerate(values)]\n",
    "    )\n",
    "    return original_entropy - weighted_entropy\n",
    "\n",
    "# Function to find the best attribute\n",
    "def best_attribute(X, y):\n",
    "    gains = [information_gain(X, y, i) for i in range(X.shape[1])]\n",
    "    return np.argmax(gains)\n",
    "\n",
    "# Recursive function to build the decision tree\n",
    "def build_tree(X, y, attributes):\n",
    "    # Base cases\n",
    "    if len(np.unique(y)) == 1:\n",
    "        return np.unique(y)[0]\n",
    "    if len(attributes) == 0:\n",
    "        return Counter(y).most_common(1)[0][0]\n",
    "\n",
    "    # Step 3: Find the best attribute\n",
    "    best_attr = best_attribute(X, y)\n",
    "    tree = {best_attr: {}}\n",
    "\n",
    "    # Step 4: Split data and recurse\n",
    "    for value in np.unique(X[:, best_attr]):\n",
    "        subset_X = X[X[:, best_attr] == value]\n",
    "        subset_y = y[X[:, best_attr] == value]\n",
    "        subtree = build_tree(subset_X, subset_y, attributes - {best_attr})\n",
    "        tree[best_attr][value] = subtree\n",
    "\n",
    "    return tree\n",
    "\n",
    "# Function to predict using the decision tree\n",
    "def predict(tree, sample):\n",
    "    if not isinstance(tree, dict):\n",
    "        return tree\n",
    "    attr = list(tree.keys())[0]\n",
    "    subtree = tree[attr].get(sample[attr], None)\n",
    "    if subtree is None:\n",
    "        return None\n",
    "    return predict(subtree, sample)\n",
    "\n",
    "# Example usage\n",
    "data = pd.DataFrame({\n",
    "    'Outlook': [0, 0, 1, 1, 2, 2, 2, 0, 0, 1, 2, 1, 1, 2],\n",
    "    'Temperature': [0, 0, 0, 1, 2, 2, 1, 1, 0, 1, 2, 1, 0, 1],\n",
    "    'Humidity': [0, 1, 0, 0, 0, 1, 1, 0, 0, 0, 0, 1, 1, 0],\n",
    "    'Windy': [0, 1, 0, 0, 0, 1, 1, 0, 1, 1, 0, 0, 0, 1],\n",
    "    'PlayTennis': [0, 0, 1, 1, 1, 0, 1, 0, 1, 1, 1, 1, 1, 0]\n",
    "})\n",
    "\n",
    "X = data.drop('PlayTennis', axis=1).values\n",
    "y = data['PlayTennis'].values\n",
    "attributes = set(range(X.shape[1]))\n",
    "\n",
    "# Build tree and test prediction\n",
    "tree = build_tree(X, y, attributes)\n",
    "sample = X[0]  # Replace with any test sample\n",
    "print(\"Decision Tree:\", tree)\n"
   ]
  }
 ],
 "metadata": {
  "kernelspec": {
   "display_name": "Python 3",
   "language": "python",
   "name": "python3"
  },
  "language_info": {
   "codemirror_mode": {
    "name": "ipython",
    "version": 3
   },
   "file_extension": ".py",
   "mimetype": "text/x-python",
   "name": "python",
   "nbconvert_exporter": "python",
   "pygments_lexer": "ipython3",
   "version": "3.12.6"
  }
 },
 "nbformat": 4,
 "nbformat_minor": 2
}
