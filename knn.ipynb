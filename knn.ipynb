{
 "cells": [
  {
   "cell_type": "code",
   "execution_count": 1,
   "id": "82af72d1-7f57-47ae-a976-bc67026f5d9a",
   "metadata": {},
   "outputs": [],
   "source": [
    "import numpy as np\n",
    "import math\n",
    "from sklearn.datasets import load_iris\n",
    "from sklearn.model_selection import train_test_split\n",
    "from sklearn.neighbors import KNeighborsClassifier"
   ]
  },
  {
   "cell_type": "code",
   "execution_count": null,
   "id": "aced4906-1881-48b0-833a-53c74e0abf66",
   "metadata": {},
   "outputs": [],
   "source": []
  },
  {
   "cell_type": "code",
   "execution_count": 2,
   "id": "eb528835-5cfd-433f-bc66-7217c6a08874",
   "metadata": {},
   "outputs": [],
   "source": [
    "iris = load_iris()\n",
    "\n",
    "X = iris.data\n",
    "y = iris.target"
   ]
  },
  {
   "cell_type": "code",
   "execution_count": 3,
   "id": "04105fb5-137c-4898-9968-dca8c1e9ced7",
   "metadata": {},
   "outputs": [],
   "source": [
    "X_train, X_test, y_train, y_test = train_test_split(X, y, test_size=0.1, random_state=42)"
   ]
  },
  {
   "cell_type": "code",
   "execution_count": null,
   "id": "74f4e18f-bf6d-43f2-ac89-89b98cc878aa",
   "metadata": {},
   "outputs": [],
   "source": []
  },
  {
   "cell_type": "code",
   "execution_count": 4,
   "id": "870ac0f2-0221-4323-bf71-084f27c3fb8a",
   "metadata": {},
   "outputs": [
    {
     "data": {
      "text/plain": [
       "array([[6.3, 3.3, 4.7, 1.6],\n",
       "       [6.5, 3. , 5.8, 2.2],\n",
       "       [5.6, 2.5, 3.9, 1.1],\n",
       "       [5.7, 2.8, 4.5, 1.3],\n",
       "       [6.4, 2.8, 5.6, 2.2],\n",
       "       [4.7, 3.2, 1.6, 0.2],\n",
       "       [6.1, 3. , 4.9, 1.8],\n",
       "       [5. , 3.4, 1.6, 0.4],\n",
       "       [6.4, 2.8, 5.6, 2.1],\n",
       "       [7.9, 3.8, 6.4, 2. ]])"
      ]
     },
     "execution_count": 4,
     "metadata": {},
     "output_type": "execute_result"
    }
   ],
   "source": [
    "X_train[:10,:]"
   ]
  },
  {
   "cell_type": "code",
   "execution_count": 5,
   "id": "02882e7f-7221-468f-9b3b-8f48b9f3df51",
   "metadata": {},
   "outputs": [
    {
     "data": {
      "text/plain": [
       "array([1, 2, 1, 1, 2, 0, 2, 0, 2, 2])"
      ]
     },
     "execution_count": 5,
     "metadata": {},
     "output_type": "execute_result"
    }
   ],
   "source": [
    "y_train[:10]"
   ]
  },
  {
   "cell_type": "code",
   "execution_count": null,
   "id": "2a1c9883-27a9-4299-a6cf-4dd9a5d28f0f",
   "metadata": {},
   "outputs": [],
   "source": []
  },
  {
   "cell_type": "code",
   "execution_count": 6,
   "id": "260bfeee-106b-4ab2-ad9d-c11ab0f9ab99",
   "metadata": {},
   "outputs": [],
   "source": [
    "def euclidean_distance(point1, point2):\n",
    "    sum = 0\n",
    "    for a, b in zip(point1, point2):\n",
    "        sum += (a - b)**2\n",
    "    return math.sqrt(sum)"
   ]
  },
  {
   "cell_type": "code",
   "execution_count": 7,
   "id": "032b5832-910c-4b7b-a98c-75be5d7106e3",
   "metadata": {},
   "outputs": [
    {
     "data": {
      "text/plain": [
       "5.196152422706632"
      ]
     },
     "execution_count": 7,
     "metadata": {},
     "output_type": "execute_result"
    }
   ],
   "source": [
    "euclidean_distance([1, 2, 3], [4, 5, 6])"
   ]
  },
  {
   "cell_type": "code",
   "execution_count": null,
   "id": "b2263295-0814-44ab-8ba4-66d020836e5b",
   "metadata": {},
   "outputs": [],
   "source": []
  },
  {
   "cell_type": "code",
   "execution_count": 8,
   "id": "06a2651c-ca17-4108-965b-d588e151f6dc",
   "metadata": {},
   "outputs": [],
   "source": [
    "def get_k_nearest_neighbors(X_train, y_train, test_point, k):\n",
    "    distances = []\n",
    "    for i, train_point in enumerate(X_train):\n",
    "        dist = euclidean_distance(test_point, train_point)\n",
    "        distances.append((dist, y_train[i]))\n",
    "        \n",
    "    # Sort the distances w.r.t. distance and return top k elements\n",
    "    distances.sort(key=lambda x: x[0])\n",
    "    return distances[:k]"
   ]
  },
  {
   "cell_type": "code",
   "execution_count": null,
   "id": "84fe8f80-e6e5-4abf-8067-fbf92a8a432b",
   "metadata": {},
   "outputs": [],
   "source": []
  },
  {
   "cell_type": "code",
   "execution_count": 9,
   "id": "c49be3d3-7ba9-4f45-bbf8-af4f1d63b2aa",
   "metadata": {},
   "outputs": [],
   "source": [
    "def predict(neighbours):\n",
    "    class_votes = {}\n",
    "    for _, label in neighbours:\n",
    "        if label not in class_votes:\n",
    "            class_votes[label] = 0\n",
    "        class_votes[label] += 1;\n",
    "\n",
    "    return max(class_votes, key=class_votes.get)"
   ]
  },
  {
   "cell_type": "code",
   "execution_count": null,
   "id": "85dadf96-8d38-4a36-8d3d-3436e77faf24",
   "metadata": {},
   "outputs": [],
   "source": []
  },
  {
   "cell_type": "code",
   "execution_count": 10,
   "id": "7c4096d3-242e-44fb-ab89-11210dc34625",
   "metadata": {},
   "outputs": [],
   "source": [
    "def KNN(X_train, y_train, X_test, k):\n",
    "    predictions = []\n",
    "    for test_point in X_test:\n",
    "        k_neighbours = get_k_nearest_neighbors(X_train, y_train, test_point, k)\n",
    "        prediction = predict(k_neighbours)\n",
    "        predictions.append(prediction)\n",
    "    return predictions"
   ]
  },
  {
   "cell_type": "code",
   "execution_count": null,
   "id": "631dd5b5-f4d8-4d94-a953-ddd2ac712a45",
   "metadata": {},
   "outputs": [],
   "source": []
  },
  {
   "cell_type": "code",
   "execution_count": null,
   "id": "13a925e4-b5e4-4f3d-b93f-f967204cd2d0",
   "metadata": {},
   "outputs": [],
   "source": []
  },
  {
   "cell_type": "code",
   "execution_count": 11,
   "id": "6e3eed2e-9499-46a1-b429-cb908428e547",
   "metadata": {},
   "outputs": [
    {
     "name": "stdout",
     "output_type": "stream",
     "text": [
      "Predictions:   [1, 0, 2, 1, 1, 0, 1, 2, 2, 1, 2, 0, 0, 0, 0]\n",
      "Actual values: [1, 0, 2, 1, 1, 0, 1, 2, 1, 1, 2, 0, 0, 0, 0]\n",
      "Accuracy: 0.93\n"
     ]
    }
   ],
   "source": [
    "k = 7\n",
    "predictions = KNN(X_train, y_train, X_test, k)\n",
    "predictions = [int(x) for x in predictions]\n",
    "\n",
    "print(\"Predictions:  \", predictions)\n",
    "print(\"Actual values:\", y_test.tolist())\n",
    "\n",
    "# Calculate accuracy\n",
    "accuracy = sum(pred == actual for pred, actual in zip(predictions, y_test)) / len(y_test)\n",
    "print(f\"Accuracy: {accuracy:.2f}\")"
   ]
  },
  {
   "cell_type": "code",
   "execution_count": null,
   "id": "1a97200a-ac93-468d-b14f-39712a34b039",
   "metadata": {},
   "outputs": [],
   "source": []
  },
  {
   "cell_type": "code",
   "execution_count": 12,
   "id": "6093450e-0653-4152-9ef6-a2afda03fad0",
   "metadata": {},
   "outputs": [
    {
     "name": "stdout",
     "output_type": "stream",
     "text": [
      "Custom KNN Predictions:       [1, 0, 2, 1, 1, 0, 1, 2, 2, 1, 2, 0, 0, 0, 0]\n",
      "Scikit-learn KNN Predictions: [1, 0, 2, 1, 1, 0, 1, 2, 2, 1, 2, 0, 0, 0, 0]\n",
      "Custom KNN Accuracy:       0.93\n",
      "Scikit-learn KNN Accuracy: 0.93\n",
      "Number of disagreements: 0\n"
     ]
    }
   ],
   "source": [
    "sklearn_knn = KNeighborsClassifier(n_neighbors=k)\n",
    "sklearn_knn.fit(X_train, y_train)\n",
    "sklearn_predictions = sklearn_knn.predict(X_test)\n",
    "sklearn_accuracy = sklearn_knn.score(X_test, y_test)\n",
    "\n",
    "# Print results\n",
    "print(\"Custom KNN Predictions:      \", predictions)\n",
    "print(\"Scikit-learn KNN Predictions:\", sklearn_predictions.tolist())\n",
    "print(f\"Custom KNN Accuracy:       {accuracy:.2f}\")\n",
    "print(f\"Scikit-learn KNN Accuracy: {sklearn_accuracy:.2f}\")\n",
    "\n",
    "# Compare predictions\n",
    "disagreements = sum(c != s for c, s in zip(predictions, sklearn_predictions))\n",
    "print(f\"Number of disagreements: {disagreements}\")"
   ]
  },
  {
   "cell_type": "code",
   "execution_count": null,
   "id": "6e97f3de-df21-4ced-a2ba-6e2f5969f6ae",
   "metadata": {},
   "outputs": [],
   "source": []
  },
  {
   "cell_type": "code",
   "execution_count": null,
   "id": "7a0c2772-a24d-4fca-94fa-c5e451c03890",
   "metadata": {},
   "outputs": [],
   "source": []
  }
 ],
 "metadata": {
  "kernelspec": {
   "display_name": "Python 3",
   "language": "python",
   "name": "python3"
  },
  "language_info": {
   "codemirror_mode": {
    "name": "ipython",
    "version": 3
   },
   "file_extension": ".py",
   "mimetype": "text/x-python",
   "name": "python",
   "nbconvert_exporter": "python",
   "pygments_lexer": "ipython3",
   "version": "3.12.6"
  }
 },
 "nbformat": 4,
 "nbformat_minor": 5
}
